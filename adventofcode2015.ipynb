{
 "cells": [
  {
   "cell_type": "code",
   "execution_count": null,
   "metadata": {},
   "outputs": [],
   "source": []
  },
  {
   "cell_type": "markdown",
   "metadata": {},
   "source": [
    "--- Day 1: Not Quite Lisp ---\n",
    "Santa was hoping for a white Christmas, but his weather machine's \"snow\" function is powered by stars, and he's fresh out! To save Christmas, he needs you to collect fifty stars by December 25th.\n",
    "\n",
    "Collect stars by helping Santa solve puzzles. Two puzzles will be made available on each day in the Advent calendar; the second puzzle is unlocked when you complete the first. Each puzzle grants one star. Good luck!\n",
    "\n",
    "Here's an easy puzzle to warm you up.\n",
    "\n",
    "Santa is trying to deliver presents in a large apartment building, but he can't find the right floor - the directions he got are a little confusing. He starts on the ground floor (floor 0) and then follows the instructions one character at a time.\n",
    "\n",
    "An opening parenthesis, (, means he should go up one floor, and a closing parenthesis, ), means he should go down one floor.\n",
    "\n",
    "The apartment building is very tall, and the basement is very deep; he will never find the top or bottom floors.\n",
    "\n",
    "For example:\n",
    "\n",
    "(()) and ()() both result in floor 0.\n",
    "((( and (()(()( both result in floor 3.\n",
    "))((((( also results in floor 3.\n",
    "()) and ))( both result in floor -1 (the first basement level).\n",
    "))) and )())()) both result in floor -3.\n",
    "To what floor do the instructions take Santa?"
   ]
  },
  {
   "cell_type": "code",
   "execution_count": 2,
   "metadata": {},
   "outputs": [
    {
     "data": {
      "text/plain": [
       "'()()(()()()(()()((()((()))((()((((()()((((()))()((((())(((((((()(((((((((()(((())(()()(()((()()(()(())(()((((()((()()()((((())((((((()(()(((()())(()((((()))())(())(()(()()))))))))((((((((((((()())()())())(())))(((()()()((((()(((()(()(()()(()(()()(()(((((((())(())(())())))((()())()((((()()((()))(((()()()())))(())))((((())(((()())(())(()))(()((((()())))())((()(())(((()((((()((()(())())))((()))()()(()(()))))((((((((()())((((()()((((()(()())(((((()(()())()))())(((()))()(()(()(()((((()(())(()))(((((()()(()()()(()(((())())(((()()(()()))(((()()(((())())(()(())())()()(())()()()((()(((()(())((()()((())()))((()()))((()()())((((()(()()(()(((()))()(()))))((()(((()()()))(()(((())()(()((()())(()(()()(()())(())()(((()(()())()((((()((()))))())()))((()()()()(())()())()()()((((()))))(()(((()()(((((((())()))()((((()((())()(()())(())()))(()(()())(((((((())))(((()))())))))()))())((())(()()((())()())()))))()((()()())(())((())((((()())())()()()(((()))())))()()))())(()()()(()((((((()()))())()))()(((()(((())((((()()()(()))())()()))))())()))())((())()())(((((())())((())())))(((())(((())(((((()(((((())(()(()())())(()(())(()))(()((((()))())()))))())))((()(()))))())))(((((())()))())()))))()))))(((()))()))))((()))((()((()(()(())()())))(()()()(())()))()((((())))))))(())(()((()()))(()))(()))(()((()))))))()()((((()()))()())()))))))()()()))(()((())(()))((()()()())()(((()((((())())))()((((()(()))))))())))()()())()))(()))))(()())()))))))((())))))))())()))()((())())))(()((()))()))(())))))(()))()())()()))((()(()))()()()()))))())()()))())(())()()))()))((()))))()()(()())))))()()()))((((()))()))))(()(())))(()())))((())())(()))()))))()())))()())()())))))))))()()))))())))((())((()))))())))(((()())))))))(()))()()))(()))()))))()())))))())((((()())))))))())))()()))))))))()))()))))()))))))(())))))))))())))))))))))))))())())((())))))))))()))((())))()))))))))())()(()))))))())))))()()()())()(()()()(()())(()))()()()(()())))())())))()))))())))))))()()()()())(())())()())()))))(()()()()()))))()))())())))((()())()())))()))()))))(()())))()))))))))(((()))()()))))))))))))))))))))(()))(()((()))())))())(()))(()(()(())))))()(()))()))()()))))))))))))()((()())(())())()(())))))())()())((()()))))(()()))))())()(())()))))))))))))))))))))()))(()(()())))))))()()((()))()))))))((())))()))))))))((()))())()()))())()()))((()))())))))))))))(()())()))(())((()(()()))(()())(())))()())(()(())()()))))()))()(()))))))(()))))))))))(()))())))))))))())))))())))(())))))()))))(())())))))))))()(()))))()())))())(()))()())))))))))))))())()()))))()))))))())))))()))))(())(()()()()((())()))())(()))((())()))())())(())(()()))))()))(())()()((())(())))(())))()))())))))))))()(((((())())))(())()))))(())))((()))()(((((((()))))()()))(())))))()(()))))(()()))()))())))))))(()())()))))))))())))(()))())()))(())()((())())()())())(()(()))))()))))))((()())(())()()(()())))()()))(())(())(()))())))()))(()))()()))((((()))))()))((()()()))))()))()))())))(()))()))))(())))()))())()(()))()())))())))))))())))())))()()))))))(()))())())))()))()()())())))))))))))))())))()))(()()))))())))())()(())))())))))))))))))))))()()())())))))()()()((()(()))()()(())()())()))()))))()()()))))))((()))))))))()(()(()((((((()()((()())))))))))))()))())))))((())())(()))())))())))))())()()())(())))())))()())())(())))))))()()(())))()))())))())())())()))))))))()))(()()()())())())))(())())))))))()()())()))))())))())()(())())))))))()())()))(()()(())())))()(()((()()((()()(((((())(()())()))(())()))(())))(())))))))()))()))((()))()))()))))))))()))))))))((()()())(()))(((()))(())))()))((())(((())))()())))())))))((())))))(())())((((((())())()(()))()(()((()())))((())()(()(()))))(())(()()())(())))())((()(((())())))(((()())())))())()(())())((((()()))))())((()))()()()()(())(((((((()()()((()))())(()())))(())())((((()()(()))))()((())))((())()))()(((()))())))()))((()(()))(())(()((((())((((()()(()()))(((())(()))))((((()(()))(())))))((()))(()))((()(((()(()))(()(()((()(())(()(()(()(()()((()))())(((())(()(()))))(()))()()))(())))(())()(((())(()))()((((()()))))())(()))))((())()((((()(((()))())())(((()))()())((())(())())(())()(())()(()()((((((()()))))()()(((()()))))()())()(((()(()))(()(()())(()(()))))(((((()(((())())))))(((((()((()()((())())((((((()(())(()()((()()()()()()()(()()))()(((()))()))(((((((())(((()((()())()((((())(((()(())))()((()(()()()((())((()())()))()))())))())((((((()))(()(()()()))(()((()(()(()))()((()(((()()()((())(((((())()(()))())())((()(())))(()(()())(())((())())())(((()()()(())))))())(()))))))()))))))())((()()()))((()((((((()))(((()((((()()()(((()))())()(()()(((()((()()()()())()()))()()()(()(())((()))))(()))())))))))()(()()(((((())()(()(((((()((()(()()())(()((((((((()((((((())()((((()()()((()((()((((((()))((())))))))())()))((()(()))()(()()(()((())((()()((((((((((((()())(()()()))((((()((((((())(()))())(()()((()()))()(((((((()((()()((((((()(((())))((())))((((((((()()(((((((())(((((()())(((())((())()((((()(((((((()(()(((()((((((()(((()(((((((((((()()((()()(()))((()()(((()(((())))((((())()(()(((())()(()(((())(((((((((((()))())))((((((())((()()((((()())())((((()()))((())(((((()(()()(()()()((())(()((()()((((()(((((()((()(()((((()())((((((()(((((()()(()(()((((())))(())(())(())((((()(()()((((()((((()()((()((((((())))(((((()))))()))(()((((((((()(((())())(((())))(()(()((())(((()((()()(((((()((()()(((())()(()))(((((((())(()(((((()))((()((()((()))(())())((((()((((())()(()))(((()(((((((((((((((())(((((((((()))(((()(()()()()((((((()((())()((((((((()(())(((((((((((()(()((())()((()()(()(()()((((()()((())(()((()()(()()((((()(((((((())))((((())(())()(((()()((()()((((()((()(((()((())(((()()()((((()((((()()(()(()((((((((())(()(((((())(()())(((((((()())()(()((((()((())(()()())((((()()(((()((((())(())(()()(((((((((()()))()(((())(()(()((((((())(()()())(()))()()(((()(((()((())(()(((((((()(()(()((()(((((()(()((()(()((((((()((((()()((((()(((()((())(()(()((()()((((()()(())()(())(((())(()((((((((()())(((((((((()(())()((((())))()))()()(((((()()((((((())(()()(((()(()(((((((()(()(((((((())(())((((()((()(())))((((()()())(()))((()())((((()(((((()(()(())(()(()()())(((((()(((((()((((()()((((((((()()))(()((((((())((((())()(()(((()()()(((()(()(())(())(((((()(())())((((())(())(()(((()(((((())((((())())((()(((((((()(((())(()(()))(((((((((()((()((()()(()((((())(((()((())((((())(()(((()(((()(()((((()(((())(()(((()(()()(()(()((()()(()())(())())((()(()(((()(((()(((()()(((((((((()(((((((((()()(((()(((()())((((()(()(((()()()((())((((((((((())(()(((()((((()())((((()((()))(((()()()(((((()(((((((())((()())(()((((())((((((((())(()((()((((((((((()()((()((()()))(((()())()())()(((()())()()(()(()(((((((())()))(())()))())()()((())()((()((((()((()((())(((((()((((((()(())))(()))())(((()))((()()(()(((()))((((())()(((()))))()(()(())()(((((())(()(()(())(())()((()()()((((()(())((()())(()(()))(()(()(()()(())()()(()((())()((()))))()))((()(()()()()((()())(()))())()(()(((((((((())())((()((()((((((())()((((())(((())((()(()()()((())(()((())(((()((((()()((()(()(((((())()))()((((((()))((())(((()()))(((())(())()))(((((((())(())())()(())(((((()))()((()))()(()()((()()()()()())((((((('"
      ]
     },
     "execution_count": 2,
     "metadata": {},
     "output_type": "execute_result"
    }
   ],
   "source": [
    "with open('adventcode1.txt', 'r') as f:\n",
    "    contents = f.read()\n",
    "contents"
   ]
  },
  {
   "cell_type": "code",
   "execution_count": 3,
   "metadata": {},
   "outputs": [
    {
     "data": {
      "text/plain": [
       "7000"
      ]
     },
     "execution_count": 3,
     "metadata": {},
     "output_type": "execute_result"
    }
   ],
   "source": [
    "len(contents)"
   ]
  },
  {
   "cell_type": "code",
   "execution_count": 4,
   "metadata": {},
   "outputs": [
    {
     "data": {
      "text/plain": [
       "280"
      ]
     },
     "execution_count": 4,
     "metadata": {},
     "output_type": "execute_result"
    }
   ],
   "source": [
    "floor=0 \n",
    "for x in contents:\n",
    "    if x==\"(\" :\n",
    "          floor+=1\n",
    "    if x==\")\":\n",
    "          floor -=1\n",
    "floor\n"
   ]
  },
  {
   "cell_type": "markdown",
   "metadata": {},
   "source": [
    "-- Part Two ---\n",
    "Now, given the same instructions, find the position of the first character that causes him to enter the basement (floor -1). The first character in the instructions has position 1, the second character has position 2, and so on.\n",
    "\n",
    "For example:\n",
    "\n",
    ") causes him to enter the basement at character position 1.\n",
    "()()) causes him to enter the basement at character position 5.\n",
    "What is the position of the character that causes Santa to first enter the basement?\n",
    "\n",
    "Answer: \n",
    " \n",
    "\n",
    "Although it hasn't changed, you can still get your puzzle input.\n",
    "\n",
    "You can also [Share] this puzzle."
   ]
  },
  {
   "cell_type": "code",
   "execution_count": 9,
   "metadata": {},
   "outputs": [
    {
     "data": {
      "text/plain": [
       "1797"
      ]
     },
     "execution_count": 9,
     "metadata": {},
     "output_type": "execute_result"
    }
   ],
   "source": [
    "floor=0 \n",
    "for x in range(0, len(contents)):\n",
    "    if contents[x]==\"(\" :\n",
    "          floor+=1\n",
    "    if contents[x]==\")\":\n",
    "          floor -=1\n",
    "    if floor==-1: \n",
    "     break \n",
    "x+1\n"
   ]
  },
  {
   "cell_type": "markdown",
   "metadata": {},
   "source": [
    "--- Day 2: I Was Told There Would Be No Math ---\n",
    "The elves are running low on wrapping paper, and so they need to submit an order for more. They have a list of the dimensions (length l, width w, and height h) of each present, and only want to order exactly as much as they need.\n",
    "\n",
    "Fortunately, every present is a box (a perfect right rectangular prism), which makes calculating the required wrapping paper for each gift a little easier: find the surface area of the box, which is 2*l*w + 2*w*h + 2*h*l. The elves also need a little extra paper for each present: the area of the smallest side.\n",
    "\n",
    "For example:\n",
    "\n",
    "A present with dimensions 2x3x4 requires 2*6 + 2*12 + 2*8 = 52 square feet of wrapping paper plus 6 square feet of slack, for a total of 58 square feet.\n",
    "A present with dimensions 1x1x10 requires 2*1 + 2*10 + 2*10 = 42 square feet of wrapping paper plus 1 square foot of slack, for a total of 43 square feet.\n",
    "All numbers in the elves' list are in feet. How many total square feet of wrapping paper should they order?\n",
    "\n",
    "----\n",
    "--- Part Two ---\n",
    "The elves are also running low on ribbon. Ribbon is all the same width, so they only have to worry about the length they need to order, which they would again like to be exact.\n",
    "\n",
    "The ribbon required to wrap a present is the shortest distance around its sides, or the smallest perimeter of any one face. Each present also requires a bow made out of ribbon as well; the feet of ribbon required for the perfect bow is equal to the cubic feet of volume of the present. Don't ask how they tie the bow, though; they'll never tell.\n",
    "\n",
    "For example:\n",
    "\n",
    "A present with dimensions 2x3x4 requires 2+2+3+3 = 10 feet of ribbon to wrap the present plus 2*3*4 = 24 feet of ribbon for the bow, for a total of 34 feet.\n",
    "A present with dimensions 1x1x10 requires 1+1+1+1 = 4 feet of ribbon to wrap the present plus 1*1*10 = 10 feet of ribbon for the bow, for a total of 14 feet.\n",
    "How many total feet of ribbon should they order?"
   ]
  },
  {
   "cell_type": "markdown",
   "metadata": {},
   "source": []
  },
  {
   "cell_type": "code",
   "execution_count": 68,
   "metadata": {},
   "outputs": [
    {
     "data": {
      "text/plain": [
       "3842356"
      ]
     },
     "execution_count": 68,
     "metadata": {},
     "output_type": "execute_result"
    }
   ],
   "source": [
    "\n",
    "import re\n",
    "import numpy as np\n",
    "with open('aoc_2015_2.txt', 'r') as f:\n",
    "    contents = f.read()\n",
    "contents\n",
    "numbers = re.findall(r'\\d+', contents)\n",
    "max=len(numbers)/3\n",
    "total_wrapping_paper=0\n",
    "total_ribbon=0\n",
    "for i in range(0, len(numbers), 3):\n",
    "    lwh=numbers[i:i+3]\n",
    "    side=int(lwh[0])*int(lwh[1]), int(lwh[1])*int(lwh[2]), int(lwh[0])*int(lwh[2])\n",
    "    perimeters= (2*(int(lwh[0])+int(lwh[1]))), (2*(int(lwh[1])+int(lwh[2]))), (2*(int(lwh[0])+int(lwh[2])))\n",
    "    volume=int(lwh[0])*int(lwh[1])*int(lwh[2])\n",
    "    total_wrapping_paper+=((2*side[0])+(2*side[1])+(2*side[2])+min(side))\n",
    "    total_ribbon+=(min(perimeters)+volume)\n",
    "total_ribbon\n",
    "\n"
   ]
  },
  {
   "cell_type": "markdown",
   "metadata": {},
   "source": [
    "--- Day 3: Perfectly Spherical Houses in a Vacuum ---\n",
    "Santa is delivering presents to an infinite two-dimensional grid of houses.\n",
    "\n",
    "He begins by delivering a present to the house at his starting location, and then an elf at the North Pole calls him via radio and tells him where to move next. Moves are always exactly one house to the north (^), south (v), east (>), or west (<). After each move, he delivers another present to the house at his new location.\n",
    "\n",
    "However, the elf back at the north pole has had a little too much eggnog, and so his directions are a little off, and Santa ends up visiting some houses more than once. How many houses receive at least one present?\n",
    "\n",
    "For example:\n",
    "\n",
    "> delivers presents to 2 houses: one at the starting location, and one to the east.\n",
    "^>v< delivers presents to 4 houses in a square, including twice to the house at his starting/ending location.\n",
    "^v^v^v^v^v delivers a bunch of presents to some very lucky children at only 2 houses.\n",
    "To begin, get your puzz"
   ]
  },
  {
   "cell_type": "code",
   "execution_count": 90,
   "metadata": {},
   "outputs": [
    {
     "data": {
      "text/plain": [
       "2592"
      ]
     },
     "execution_count": 90,
     "metadata": {},
     "output_type": "execute_result"
    }
   ],
   "source": [
    "\n",
    "with open('aoc_2015_3.txt', 'r') as f:\n",
    "    text_3 = f.read()\n",
    "c=['00']\n",
    "x=0\n",
    "y=0\n",
    "for i in range(0, len(text_3)):\n",
    "    if text_3[i]==\"^\" :\n",
    "          y+=1\n",
    "    if text_3[i]==\"v\":\n",
    "        y+=-1\n",
    "    if text_3[i]==\">\":\n",
    "        x+=1\n",
    "    if text_3[i]==\"<\": \n",
    "        x+=-1\n",
    "        \n",
    "    c.append(str(x)+str(y))\n",
    "len(set(c))"
   ]
  },
  {
   "cell_type": "markdown",
   "metadata": {},
   "source": [
    "The next year, to speed up the process, Santa creates a robot version of himself, Robo-Santa, to deliver presents with him.\n",
    "\n",
    "Santa and Robo-Santa start at the same location (delivering two presents to the same starting house), then take turns moving based on instructions from the elf, who is eggnoggedly reading from the same script as the previous year.\n",
    "\n",
    "This year, how many houses receive at least one present?\n",
    "\n",
    "For example:\n",
    "\n",
    "^v delivers presents to 3 houses, because Santa goes north, and then Robo-Santa goes south.\n",
    "^>v< now delivers presents to 3 houses, and Santa and Robo-Santa end up back where they started.\n",
    "^v^v^v^v^v now delivers presents to 11 houses, with Santa going one direction and Robo-Santa going the other."
   ]
  },
  {
   "cell_type": "code",
   "execution_count": 91,
   "metadata": {},
   "outputs": [
    {
     "data": {
      "text/plain": [
       "2360"
      ]
     },
     "execution_count": 91,
     "metadata": {},
     "output_type": "execute_result"
    }
   ],
   "source": [
    "with open('aoc_2015_3.txt', 'r') as f:\n",
    "    text_3 = f.read()\n",
    "c=['00']\n",
    "x1=0\n",
    "y1=0\n",
    "d=['00']\n",
    "x2=0\n",
    "y2=0\n",
    "\n",
    "for i in range(0, len(text_3), 2):\n",
    "        if text_3[i]==\"^\" :\n",
    "            y1+=1\n",
    "        if text_3[i]==\"v\":\n",
    "            y1+=-1\n",
    "        if text_3[i]==\">\":\n",
    "            x1+=1\n",
    "        if text_3[i]==\"<\": \n",
    "            x1+=-1\n",
    "        if text_3[i+1]==\"^\" :\n",
    "            y2+=1\n",
    "        if text_3[i+1]==\"v\":\n",
    "            y2+=-1\n",
    "        if text_3[i+1]==\">\":\n",
    "            x2+=1\n",
    "        if text_3[i+1]==\"<\": \n",
    "            x2+=-1\n",
    "        c.append(str(x1)+str(y1))\n",
    "        d.append(str(x2)+str(y2))\n",
    "len(set(c+d))"
   ]
  },
  {
   "cell_type": "markdown",
   "metadata": {},
   "source": []
  },
  {
   "cell_type": "markdown",
   "metadata": {},
   "source": [
    "--- Day 4: The Ideal Stocking Stuffer ---\n",
    "Santa needs help mining some AdventCoins (very similar to bitcoins) to use as gifts for all the economically forward-thinking little girls and boys.\n",
    "\n",
    "To do this, he needs to find MD5 hashes which, in hexadecimal, start with at least five zeroes. The input to the MD5 hash is some secret key (your puzzle input, given below) followed by a number in decimal. To mine AdventCoins, you must find Santa the lowest positive number (no leading zeroes: 1, 2, 3, ...) that produces such a hash.\n",
    "\n",
    "For example:\n",
    "\n",
    "If your secret key is abcdef, the answer is 609043, because the MD5 hash of abcdef609043 starts with five zeroes (000001dbbfa...), and it is the lowest such number to do so.\n",
    "If your secret key is pqrstuv, the lowest number it combines with to make an MD5 hash starting with five zeroes is 1048970; that is, the MD5 hash of pqrstuv1048970 looks like 000006136ef....\n",
    "--- Part Two ---\n",
    "Now find one that starts with six zeroes."
   ]
  },
  {
   "cell_type": "code",
   "execution_count": 110,
   "metadata": {},
   "outputs": [
    {
     "name": "stdout",
     "output_type": "stream",
     "text": [
      "346386\n"
     ]
    }
   ],
   "source": [
    "import hashlib\n",
    "import sys\n",
    "\n",
    "\n",
    "for i in range(sys.maxsize**10):\n",
    "    secret_input='iwrupvqb'+str(i)\n",
    "    \n",
    "    hash = hashlib.md5(secret_input.encode(\"utf-8\")).hexdigest()\n",
    "    if hash[0:5]=='00000':\n",
    "        print(i)\n",
    "        break\n"
   ]
  },
  {
   "cell_type": "code",
   "execution_count": 113,
   "metadata": {},
   "outputs": [
    {
     "name": "stdout",
     "output_type": "stream",
     "text": [
      "9958218\n"
     ]
    }
   ],
   "source": [
    "# Calculate the MD5 hash of the string \"hello world\"\n",
    "for i in range(sys.maxsize**10):\n",
    "    secret_input='iwrupvqb'+str(i)\n",
    "    \n",
    "    hash = hashlib.md5(secret_input.encode(\"utf-8\")).hexdigest()\n",
    "    if hash[0:6]=='000000':\n",
    "        print(i)\n",
    "        break\n"
   ]
  },
  {
   "cell_type": "markdown",
   "metadata": {},
   "source": [
    "--- Day 5: Doesn't He Have Intern-Elves For This? ---\n",
    "Santa needs help figuring out which strings in his text file are naughty or nice.\n",
    "\n",
    "A nice string is one with all of the following properties:\n",
    "\n",
    "It contains at least three vowels (aeiou only), like aei, xazegov, or aeiouaeiouaeiou.\n",
    "It contains at least one letter that appears twice in a row, like xx, abcdde (dd), or aabbccdd (aa, bb, cc, or dd).\n",
    "It does not contain the strings ab, cd, pq, or xy, even if they are part of one of the other requirements.\n",
    "For example:\n",
    "\n",
    "ugknbfddgicrmopn is nice because it has at least three vowels (u...i...o...), a double letter (...dd...), and none of the disallowed substrings.\n",
    "aaa is nice because it has at least three vowels and a double letter, even though the letters used by different rules overlap.\n",
    "jchzalrnumimnmhp is naughty because it has no double letter.\n",
    "haegwjzuvuyypxyu is naughty because it contains the string xy.\n",
    "dvszwmarrgswjxmb is naughty because it contains only one vowel.\n",
    "How many strings are nice?"
   ]
  },
  {
   "cell_type": "code",
   "execution_count": 247,
   "metadata": {},
   "outputs": [],
   "source": [
    "text_5=[]\n",
    "with open('aoc_2015_5.txt', 'r') as f:\n",
    "\n",
    "    for line in f:\n",
    "        text_5.append(line)\n",
    "text_5=np.array(text_5)\n"
   ]
  },
  {
   "cell_type": "code",
   "execution_count": 248,
   "metadata": {},
   "outputs": [],
   "source": [
    "import pandas as pd\n",
    "df=pd.DataFrame(text_5)\n",
    "df.columns=['string']\n"
   ]
  },
  {
   "cell_type": "code",
   "execution_count": 255,
   "metadata": {},
   "outputs": [
    {
     "data": {
      "text/plain": [
       "258"
      ]
     },
     "execution_count": 255,
     "metadata": {},
     "output_type": "execute_result"
    }
   ],
   "source": [
    "\n",
    "vowels=['a','e','i','o','u'] ## count number of vowels in each string\n",
    "vowel_counts=[]\n",
    "double_letters=[]\n",
    "bad_strings=[]\n",
    "for row in df['string']:\n",
    "    vowel_count=0\n",
    "    double_letter=0  #count double letters in each string\n",
    "    bad_string=0 #flag bad substrings\n",
    "    if 'ab' in row:  \n",
    "        bad_string+=1\n",
    "    if 'cd' in row:\n",
    "         bad_string+=1\n",
    "    if 'pq' in row:\n",
    "         bad_string+=1\n",
    "    if 'xy' in row:\n",
    "         bad_string+=1    \n",
    "\n",
    "    for n in range(0, len(vowels)):\n",
    "        for letter in range(0, len(row)):\n",
    "                if vowels[n] in row[letter]:\n",
    "                    vowel_count+=1\n",
    "    for letter in range(1, len(row), 1):\n",
    "          if row[letter-1]==row[letter]:\n",
    "                     \n",
    "               double_letter+=1\n",
    "\n",
    "                     \n",
    "    vowel_counts.append(vowel_count)\n",
    "    double_letters.append(double_letter)\n",
    "    bad_strings.append(bad_string)\n",
    "            \n",
    "df['vowel_counts']=vowel_counts\n",
    "df['double_letter']=double_letters\n",
    "df['bad_substring']=bad_strings\n",
    "df['nice']=np.where(((df['vowel_counts']>=3) & (df['double_letter']>=1) & (df['bad_substring']<1)), 1, 0)\n",
    "df['nice'].sum()"
   ]
  },
  {
   "cell_type": "markdown",
   "metadata": {},
   "source": [
    "- Part Two ---\n",
    "Realizing the error of his ways, Santa has switched to a better model of determining whether a string is naughty or nice. None of the old rules apply, as they are all clearly ridiculous.\n",
    "\n",
    "Now, a nice string is one with all of the following properties:\n",
    "\n",
    "It contains a pair of any two letters that appears at least twice in the string without overlapping, like xyxy (xy) or aabcdefgaa (aa), but not like aaa (aa, but it overlaps).\n",
    "It contains at least one letter which repeats with exactly one letter between them, like xyx, abcdefeghi (efe), or even aaa.\n",
    "For example:\n",
    "\n",
    "qjhvhtzxzqqjkmpb is nice because is has a pair that appears twice (qj) and a letter that repeats with exactly one letter between them (zxz).\n",
    "xxyxx is nice because it has a pair that appears twice and a letter that repeats with one between, even though the letters used by each rule overlap.\n",
    "uurcxstgmygtbstg is naughty because it has a pair (tg) but no repeat with a single letter between them.\n",
    "ieodomkazucvgmuy is naughty because it has a repeating letter with one between (odo), but no pair that appears twice."
   ]
  },
  {
   "cell_type": "code",
   "execution_count": 338,
   "metadata": {},
   "outputs": [],
   "source": [
    "\n",
    "\n",
    "pairs=[]\n",
    "between_letters=[]\n",
    "double_pairs=[]\n",
    "for row in df['string']:\n",
    "    pair_letters_count=0\n",
    "    for letter in range(3, len(row), 1):\n",
    "          if row[letter-3:letter-1] in (row[letter-1:]):\n",
    "            pair_letters_count+=1\n",
    "\n",
    "    between=0\n",
    "    for letter in range(3, len(row), 1):\n",
    "          if (row[letter-3]==row[letter-1]) and (row[letter-3]!=row[letter-2]) and (row[letter-2]!=row[letter-1]):\n",
    "                between+=1\n",
    "    double=0\n",
    "    for letter in range(3, len(row), 1):\n",
    "          if row[letter-3]==row[letter-2] and row[letter-1]==row[letter] and row[letter-2]==row[letter-1]:\n",
    "               double+=1\n",
    "\n",
    "                     \n",
    "    \n",
    "    pairs.append(pair_letters_count)\n",
    "    between_letters.append(between)\n",
    "    double_pairs.append(double)\n",
    "df['pairs']=pairs\n",
    "df['between_letters']=between_letters\n",
    "df['double_pairs']=double_pairs\n",
    "len(df[(df['pairs']>0 ) & (df['between_letters']+df['double_pairs']>=1)])"
   ]
  },
  {
   "cell_type": "code",
   "execution_count": null,
   "metadata": {},
   "outputs": [],
   "source": []
  }
 ],
 "metadata": {
  "kernelspec": {
   "display_name": "base",
   "language": "python",
   "name": "python3"
  },
  "language_info": {
   "codemirror_mode": {
    "name": "ipython",
    "version": 3
   },
   "file_extension": ".py",
   "mimetype": "text/x-python",
   "name": "python",
   "nbconvert_exporter": "python",
   "pygments_lexer": "ipython3",
   "version": "3.10.9"
  }
 },
 "nbformat": 4,
 "nbformat_minor": 2
}
